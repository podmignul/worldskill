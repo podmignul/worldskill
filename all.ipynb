{
 "cells": [
  {
   "attachments": {},
   "cell_type": "markdown",
   "metadata": {},
   "source": [
    "Разобьём текст для его более легкого чтения и сохраним в формате json"
   ]
  },
  {
   "cell_type": "code",
   "execution_count": 1,
   "metadata": {},
   "outputs": [],
   "source": [
    "import json\n",
    "from os import listdir\n",
    "from os.path import isfile, join\n",
    "\n",
    "path = r\"C:\\Users\\Home\\Downloads\\Telegram Desktop\\src_files\"\n",
    "onlyfiles = [f for f in listdir(path) if isfile(join(path, f))]\n",
    "path_f = path + \"\\\\\" + onlyfiles[0]\n",
    "with open(path_f, 'r', encoding=\"utf-8\", errors='ignore') as file:\n",
    "    data = json.loads(file.read())\n",
    "    with open(\"sample.json\", \"w\") as outfile:\n",
    "        json.dump(data, outfile, ensure_ascii=False)\n"
   ]
  },
  {
   "attachments": {},
   "cell_type": "markdown",
   "metadata": {},
   "source": [
    "Пройдёмся по файлу и выделим наиболее важные для нас признаки, сделаем из них новый датасет.\n",
    "(text – текст обращения пользователя,\n",
    "district_name – наименование округа,\n",
    "target – идентификатор категории,\n",
    "target_name – наименование категории.)"
   ]
  },
  {
   "cell_type": "code",
   "execution_count": 2,
   "metadata": {},
   "outputs": [
    {
     "name": "stderr",
     "output_type": "stream",
     "text": [
      "100%|██████████| 59889/59889 [00:57<00:00, 1046.87it/s]\n"
     ]
    }
   ],
   "source": [
    "import json\n",
    "import os\n",
    "import pandas\n",
    "from tqdm import tqdm\n",
    "\n",
    "raw_datadir = r\"C:\\Users\\Home\\Downloads\\Telegram Desktop\\src_files\"\n",
    "files_list = os.listdir(raw_datadir)\n",
    "df = []\n",
    "for f in tqdm(files_list):\n",
    "    try:\n",
    "        with open(f'{raw_datadir}/{f}', encoding='UTF-8') as fl:\n",
    "            raw = json.load(fl)\n",
    "        data_structure = {}\n",
    "        # parse text\n",
    "        preproc_text = ''\n",
    "        for i, w in enumerate(raw['feed']):\n",
    "            if w['widget'] == 'public.petition':\n",
    "                body_text = raw['feed'][i]['payload']['body']\n",
    "                raw_text = \" \".join([t['text'] for t in body_text])\n",
    "                preproc_text = raw_text.strip()\n",
    "                break  # если нашли нужный виджет, то смысла идти по циклу больше нет\n",
    "\n",
    "        data_structure['text'] = preproc_text\n",
    "        data_structure['district_name'] = raw['district_name']\n",
    "        data_structure['target'] = raw['reason']['category']['id']\n",
    "        data_structure['target_name'] = raw['reason']['category']['name']\n",
    "        df.append(data_structure)\n",
    "    except Exception:\n",
    "        print('Что-то пошло не так :(')\n",
    "        print('file name:', f)\n",
    "        continue  # продолжаем цикл для обработки остальных файлов, а с этим будем разбираться отдельно, возможно он какой-то некорректный!?\n",
    "\n",
    "df = pandas.DataFrame(df)\n",
    "df.to_csv(\"dataframe.csv\")"
   ]
  },
  {
   "attachments": {},
   "cell_type": "markdown",
   "metadata": {},
   "source": [
    "Прочтём файл и посмотрим на его содержимое"
   ]
  },
  {
   "cell_type": "code",
   "execution_count": 3,
   "metadata": {},
   "outputs": [
    {
     "data": {
      "text/html": [
       "<div>\n",
       "<style scoped>\n",
       "    .dataframe tbody tr th:only-of-type {\n",
       "        vertical-align: middle;\n",
       "    }\n",
       "\n",
       "    .dataframe tbody tr th {\n",
       "        vertical-align: top;\n",
       "    }\n",
       "\n",
       "    .dataframe thead th {\n",
       "        text-align: right;\n",
       "    }\n",
       "</style>\n",
       "<table border=\"1\" class=\"dataframe\">\n",
       "  <thead>\n",
       "    <tr style=\"text-align: right;\">\n",
       "      <th></th>\n",
       "      <th>Unnamed: 0</th>\n",
       "      <th>text</th>\n",
       "      <th>district_name</th>\n",
       "      <th>target</th>\n",
       "      <th>target_name</th>\n",
       "    </tr>\n",
       "  </thead>\n",
       "  <tbody>\n",
       "    <tr>\n",
       "      <th>0</th>\n",
       "      <td>0</td>\n",
       "      <td>1й подъезд, 5 этаж. В коридоре над  XXXX  виси...</td>\n",
       "      <td>Приморский</td>\n",
       "      <td>10</td>\n",
       "      <td>Содержание МКД</td>\n",
       "    </tr>\n",
       "    <tr>\n",
       "      <th>1</th>\n",
       "      <td>1</td>\n",
       "      <td>Маленькмй лифт изрисован внутри.</td>\n",
       "      <td>Колпинский</td>\n",
       "      <td>10</td>\n",
       "      <td>Содержание МКД</td>\n",
       "    </tr>\n",
       "    <tr>\n",
       "      <th>2</th>\n",
       "      <td>2</td>\n",
       "      <td>реклама на светофоре</td>\n",
       "      <td>Красносельский</td>\n",
       "      <td>3</td>\n",
       "      <td>Благоустройство</td>\n",
       "    </tr>\n",
       "    <tr>\n",
       "      <th>3</th>\n",
       "      <td>3</td>\n",
       "      <td>1й подъезд, 5 этаж, квартирный холл. Рааботник...</td>\n",
       "      <td>Приморский</td>\n",
       "      <td>10</td>\n",
       "      <td>Содержание МКД</td>\n",
       "    </tr>\n",
       "    <tr>\n",
       "      <th>4</th>\n",
       "      <td>4</td>\n",
       "      <td>незаконная решетка на фасаде</td>\n",
       "      <td>Адмиралтейский</td>\n",
       "      <td>23</td>\n",
       "      <td>Нарушение правил пользования общим имуществом</td>\n",
       "    </tr>\n",
       "    <tr>\n",
       "      <th>...</th>\n",
       "      <td>...</td>\n",
       "      <td>...</td>\n",
       "      <td>...</td>\n",
       "      <td>...</td>\n",
       "      <td>...</td>\n",
       "    </tr>\n",
       "    <tr>\n",
       "      <th>59884</th>\n",
       "      <td>59884</td>\n",
       "      <td>Систематическое блокирование парковки крупнога...</td>\n",
       "      <td>Выборгский</td>\n",
       "      <td>2</td>\n",
       "      <td>Благоустройство</td>\n",
       "    </tr>\n",
       "    <tr>\n",
       "      <th>59885</th>\n",
       "      <td>59885</td>\n",
       "      <td>Ул. Маршала Захарова, д. 14/4.высокая точка за...</td>\n",
       "      <td>Красносельский</td>\n",
       "      <td>2</td>\n",
       "      <td>Благоустройство</td>\n",
       "    </tr>\n",
       "    <tr>\n",
       "      <th>59886</th>\n",
       "      <td>59886</td>\n",
       "      <td>люк выдавило, гранитное мощение вокруг люка вы...</td>\n",
       "      <td>Центральный</td>\n",
       "      <td>61</td>\n",
       "      <td>Повреждения или неисправность элементов улично...</td>\n",
       "    </tr>\n",
       "    <tr>\n",
       "      <th>59887</th>\n",
       "      <td>59887</td>\n",
       "      <td>Повреждён асфальт вокруг люка</td>\n",
       "      <td>Фрунзенский</td>\n",
       "      <td>61</td>\n",
       "      <td>Повреждения или неисправность элементов улично...</td>\n",
       "    </tr>\n",
       "    <tr>\n",
       "      <th>59888</th>\n",
       "      <td>59888</td>\n",
       "      <td>Здравствуйте. Согласно кадастровой карте данны...</td>\n",
       "      <td>Пушкинский</td>\n",
       "      <td>3</td>\n",
       "      <td>Благоустройство</td>\n",
       "    </tr>\n",
       "  </tbody>\n",
       "</table>\n",
       "<p>59889 rows × 5 columns</p>\n",
       "</div>"
      ],
      "text/plain": [
       "       Unnamed: 0                                               text  \\\n",
       "0               0  1й подъезд, 5 этаж. В коридоре над  XXXX  виси...   \n",
       "1               1                   Маленькмй лифт изрисован внутри.   \n",
       "2               2                               реклама на светофоре   \n",
       "3               3  1й подъезд, 5 этаж, квартирный холл. Рааботник...   \n",
       "4               4                       незаконная решетка на фасаде   \n",
       "...           ...                                                ...   \n",
       "59884       59884  Систематическое блокирование парковки крупнога...   \n",
       "59885       59885  Ул. Маршала Захарова, д. 14/4.высокая точка за...   \n",
       "59886       59886  люк выдавило, гранитное мощение вокруг люка вы...   \n",
       "59887       59887                      Повреждён асфальт вокруг люка   \n",
       "59888       59888  Здравствуйте. Согласно кадастровой карте данны...   \n",
       "\n",
       "        district_name  target  \\\n",
       "0          Приморский      10   \n",
       "1          Колпинский      10   \n",
       "2      Красносельский       3   \n",
       "3          Приморский      10   \n",
       "4      Адмиралтейский      23   \n",
       "...               ...     ...   \n",
       "59884      Выборгский       2   \n",
       "59885  Красносельский       2   \n",
       "59886     Центральный      61   \n",
       "59887     Фрунзенский      61   \n",
       "59888      Пушкинский       3   \n",
       "\n",
       "                                             target_name  \n",
       "0                                         Содержание МКД  \n",
       "1                                         Содержание МКД  \n",
       "2                                        Благоустройство  \n",
       "3                                         Содержание МКД  \n",
       "4          Нарушение правил пользования общим имуществом  \n",
       "...                                                  ...  \n",
       "59884                                    Благоустройство  \n",
       "59885                                    Благоустройство  \n",
       "59886  Повреждения или неисправность элементов улично...  \n",
       "59887  Повреждения или неисправность элементов улично...  \n",
       "59888                                    Благоустройство  \n",
       "\n",
       "[59889 rows x 5 columns]"
      ]
     },
     "execution_count": 3,
     "metadata": {},
     "output_type": "execute_result"
    }
   ],
   "source": [
    "import pandas as pd\n",
    "data = pd.read_csv('dataframe.csv')\n",
    "data"
   ]
  },
  {
   "attachments": {},
   "cell_type": "markdown",
   "metadata": {},
   "source": [
    "Перед тем, как приступить к подготовке моделей, необходимо повнимательней посмотреть на имеющиеся данные. В первую очередь, необходимо проверить, какие уникальные значения принимают все признаки за исключением текста обращения. Текст требует отдельной обработки: очистки от стоп-слов, пунктуации, приведению всех слов к начальной форме."
   ]
  },
  {
   "cell_type": "code",
   "execution_count": 4,
   "metadata": {},
   "outputs": [
    {
     "data": {
      "text/plain": [
       "Невский              8100\n",
       "Выборгский           6301\n",
       "Калининский          5209\n",
       "Центральный          4959\n",
       "Московский           4545\n",
       "Кировский            4090\n",
       "Приморский           3785\n",
       "Красносельский       3624\n",
       "Красногвардейский    3308\n",
       "Фрунзенский          3150\n",
       "Адмиралтейский       2990\n",
       "Пушкинский           2667\n",
       "Василеостровский     2496\n",
       "Петроградский        1913\n",
       "Колпинский           1140\n",
       "Петродворцовый       1001\n",
       "Курортный             415\n",
       "Кронштадтский         196\n",
       "Name: district_name, dtype: int64"
      ]
     },
     "execution_count": 4,
     "metadata": {},
     "output_type": "execute_result"
    }
   ],
   "source": [
    "data.district_name.value_counts()"
   ]
  },
  {
   "cell_type": "code",
   "execution_count": 5,
   "metadata": {},
   "outputs": [
    {
     "data": {
      "image/png": "[encoded data removed]",
      "text/plain": [
       "<Figure size 640x480 with 1 Axes>"
      ]
     },
     "metadata": {},
     "output_type": "display_data"
    }
   ],
   "source": [
    "import matplotlib.pyplot as plt\n",
    "dat1 = data['district_name']\n",
    "\n",
    "#create frequency histogram\n",
    "fig = plt.figure()\n",
    "ax = fig.add_subplot (111)\n",
    "ax.hist (dat1, edgecolor='black') \n",
    "plt.xticks(rotation = 45, horizontalalignment = 'right')\n",
    "plt.show()"
   ]
  },
  {
   "attachments": {},
   "cell_type": "markdown",
   "metadata": {},
   "source": [
    "Как видим все наименования округов уникальны, опечаток нет."
   ]
  },
  {
   "cell_type": "code",
   "execution_count": 6,
   "metadata": {},
   "outputs": [
    {
     "data": {
      "text/plain": [
       "Благоустройство                                                                     34769\n",
       "Содержание МКД                                                                      14461\n",
       "Нарушение правил пользования общим имуществом                                        2170\n",
       "Незаконная информационная и (или) рекламная конструкция                              1831\n",
       "Фасад                                                                                1483\n",
       "Повреждения или неисправность элементов уличной инфраструктуры                       1164\n",
       "Кровля                                                                                825\n",
       "Водоснабжение                                                                         809\n",
       "Состояние рекламных или информационных конструкций                                    673\n",
       "Санитарное состояние                                                                  434\n",
       "Центральное отопление                                                                 284\n",
       "Подвалы                                                                               254\n",
       "Незаконная реализация товаров с торгового оборудования (прилавок, ящик, с земли)      251\n",
       "Нарушение порядка пользования общим имуществом                                        243\n",
       "Водоотведение                                                                         238\n",
       "Name: target_name, dtype: int64"
      ]
     },
     "execution_count": 6,
     "metadata": {},
     "output_type": "execute_result"
    }
   ],
   "source": [
    "data.target_name.value_counts()"
   ]
  },
  {
   "attachments": {},
   "cell_type": "markdown",
   "metadata": {},
   "source": [
    "Как видим, самая часто используемая категория обращения связана с благоустройством. Также видим, что в наборе данных имеется дисбаланс классов.\n",
    "\n",
    "Теперь займёмся текстом.\n",
    "\n",
    "План предварительной обработки текста:\n",
    "\n",
    "подготовить список стоп-слов, пунктуации, спецсимволов и цифр – всё это будем удалять;\n",
    "\n",
    "собрать текстовый корпус, в котором не будет стоп-слов, пунктуации, спецсимволов и цифр, а также все тексты привести к нижнему регистру;\n",
    "\n",
    "провести лемматизацию для исключения различных форм одного и того же слова;\n",
    "\n",
    "выделить токены – слова, встречающиеся в корпусе и приведённые к изначальной форме (лемматизированные слова)."
   ]
  },
  {
   "cell_type": "code",
   "execution_count": 7,
   "metadata": {},
   "outputs": [
    {
     "name": "stderr",
     "output_type": "stream",
     "text": [
      "[nltk_data] Downloading package stopwords to\n",
      "[nltk_data]     C:\\Users\\Home\\AppData\\Roaming\\nltk_data...\n",
      "[nltk_data]   Package stopwords is already up-to-date!\n"
     ]
    }
   ],
   "source": [
    "import nltk\n",
    "import matplotlib.pyplot as plt\n",
    "import re\n",
    " \n",
    "from pymystem3 import Mystem\n",
    "from nltk.corpus import stopwords\n",
    "from string import punctuation\n",
    " \n",
    "nltk.download('stopwords')\n",
    "\n",
    "stop_words_rus = set(stopwords.words('russian'))\n",
    "stop_words_eng = set(stopwords.words('english'))  # бывают также английские слова попадаются на практике, включим стоп-слова для чистоты целевого датасет\n",
    " \n",
    "# punctuation == '!\"#$%&\\'()*+,-./:;<=>?@[\\\\]^_`{|}~'\n",
    "numbers = [i for i in range(10)]\n",
    "numbers = list(map(str, numbers))\n",
    "# numbers == ['0', '1', '2', '3', '4', '5', '6', '7', '8', '9']\n",
    "\n",
    "mysteam = Mystem()  # инициализируем для последующего использования при лемматизации"
   ]
  },
  {
   "cell_type": "code",
   "execution_count": 8,
   "metadata": {},
   "outputs": [],
   "source": [
    "def preprocess_text(raw_text):\n",
    "   \"\"\"\n",
    "   Метод для предобработки исходного текста\n",
    "   \"\"\"\n",
    "   tokens = mysteam.lemmatize(raw_text.lower())  # лемматизация и приведение к нижнему регистру\n",
    " \n",
    "   \"\"\"\n",
    "   удаление стоп-слов и всяких ненужных символов\n",
    "   регулярочка помогает заменить токены типа \"1й\", которые встречаются в тексте на *, которые потом просто удаляем из списка\n",
    "   \"\"\"\n",
    "   text = [re.sub('[0-9][а-я]', '*', token) for token in tokens if (token.strip() not in stop_words_rus) & \\\n",
    "                             (token.strip() not in stop_words_eng) & \\\n",
    "                             (token.strip() not in punctuation) & \\\n",
    "                             (token.strip() not in numbers) & \\\n",
    "                             (token != ' ')]\n",
    "   if '*' in text:\n",
    "       text.remove('*')\n",
    "  \n",
    "   return ' '.join(text)"
   ]
  },
  {
   "cell_type": "code",
   "execution_count": 9,
   "metadata": {},
   "outputs": [
    {
     "data": {
      "text/plain": [
       "'подъезд этаж коридор висеть какой-то провод возможно напряжение председатель тсж ленинградский вечер отказываться принимать заявка устранение полгода'"
      ]
     },
     "execution_count": 9,
     "metadata": {},
     "output_type": "execute_result"
    }
   ],
   "source": [
    "text = preprocess_text(data.text[0])\n",
    "text\n",
    "'подъезд этаж коридор висеть какой-то провод возможно напряжение председатель тсж ленинградский вечер отказываться принимать заявка устранение полгода'"
   ]
  },
  {
   "attachments": {},
   "cell_type": "markdown",
   "metadata": {},
   "source": [
    "На одном примере работает корректно, соберём далее корпус из очищенных/предобработанных текстов для последующего перевода текста в числовой вид с помощью алгоритма векторизации."
   ]
  },
  {
   "cell_type": "code",
   "execution_count": 10,
   "metadata": {},
   "outputs": [
    {
     "name": "stderr",
     "output_type": "stream",
     "text": [
      "1886it [1:09:26,  2.21s/it]\n"
     ]
    },
    {
     "ename": "KeyboardInterrupt",
     "evalue": "",
     "output_type": "error",
     "traceback": [
      "\u001b[1;31m---------------------------------------------------------------------------\u001b[0m",
      "\u001b[1;31mKeyboardInterrupt\u001b[0m                         Traceback (most recent call last)",
      "\u001b[1;32mc:\\Users\\Home\\Downloads\\Telegram Desktop\\session_1_parsing\\all.ipynb Ячейка 17\u001b[0m in \u001b[0;36m3\n\u001b[0;32m      <a href='vscode-notebook-cell:/c%3A/Users/Home/Downloads/Telegram%20Desktop/session_1_parsing/all.ipynb#X22sZmlsZQ%3D%3D?line=0'>1</a>\u001b[0m corpus \u001b[39m=\u001b[39m []\n\u001b[0;32m      <a href='vscode-notebook-cell:/c%3A/Users/Home/Downloads/Telegram%20Desktop/session_1_parsing/all.ipynb#X22sZmlsZQ%3D%3D?line=1'>2</a>\u001b[0m \u001b[39mfor\u001b[39;00m row \u001b[39min\u001b[39;00m tqdm(data\u001b[39m.\u001b[39miterrows()):\n\u001b[1;32m----> <a href='vscode-notebook-cell:/c%3A/Users/Home/Downloads/Telegram%20Desktop/session_1_parsing/all.ipynb#X22sZmlsZQ%3D%3D?line=2'>3</a>\u001b[0m    text \u001b[39m=\u001b[39m preprocess_text(row[\u001b[39m1\u001b[39;49m][\u001b[39m'\u001b[39;49m\u001b[39mtext\u001b[39;49m\u001b[39m'\u001b[39;49m])\n\u001b[0;32m      <a href='vscode-notebook-cell:/c%3A/Users/Home/Downloads/Telegram%20Desktop/session_1_parsing/all.ipynb#X22sZmlsZQ%3D%3D?line=3'>4</a>\u001b[0m    corpus\u001b[39m.\u001b[39mappend(text)\n",
      "\u001b[1;32mc:\\Users\\Home\\Downloads\\Telegram Desktop\\session_1_parsing\\all.ipynb Ячейка 17\u001b[0m in \u001b[0;36m5\n\u001b[0;32m      <a href='vscode-notebook-cell:/c%3A/Users/Home/Downloads/Telegram%20Desktop/session_1_parsing/all.ipynb#X22sZmlsZQ%3D%3D?line=0'>1</a>\u001b[0m \u001b[39mdef\u001b[39;00m \u001b[39mpreprocess_text\u001b[39m(raw_text):\n\u001b[0;32m      <a href='vscode-notebook-cell:/c%3A/Users/Home/Downloads/Telegram%20Desktop/session_1_parsing/all.ipynb#X22sZmlsZQ%3D%3D?line=1'>2</a>\u001b[0m    \u001b[39m\"\"\"\u001b[39;00m\n\u001b[0;32m      <a href='vscode-notebook-cell:/c%3A/Users/Home/Downloads/Telegram%20Desktop/session_1_parsing/all.ipynb#X22sZmlsZQ%3D%3D?line=2'>3</a>\u001b[0m \u001b[39m   Метод для предобработки исходного текста\u001b[39;00m\n\u001b[0;32m      <a href='vscode-notebook-cell:/c%3A/Users/Home/Downloads/Telegram%20Desktop/session_1_parsing/all.ipynb#X22sZmlsZQ%3D%3D?line=3'>4</a>\u001b[0m \u001b[39m   \"\"\"\u001b[39;00m\n\u001b[1;32m----> <a href='vscode-notebook-cell:/c%3A/Users/Home/Downloads/Telegram%20Desktop/session_1_parsing/all.ipynb#X22sZmlsZQ%3D%3D?line=4'>5</a>\u001b[0m    tokens \u001b[39m=\u001b[39m mysteam\u001b[39m.\u001b[39;49mlemmatize(raw_text\u001b[39m.\u001b[39;49mlower())  \u001b[39m# лемматизация и приведение к нижнему регистру\u001b[39;00m\n\u001b[0;32m      <a href='vscode-notebook-cell:/c%3A/Users/Home/Downloads/Telegram%20Desktop/session_1_parsing/all.ipynb#X22sZmlsZQ%3D%3D?line=6'>7</a>\u001b[0m    \u001b[39m\"\"\"\u001b[39;00m\n\u001b[0;32m      <a href='vscode-notebook-cell:/c%3A/Users/Home/Downloads/Telegram%20Desktop/session_1_parsing/all.ipynb#X22sZmlsZQ%3D%3D?line=7'>8</a>\u001b[0m \u001b[39m   удаление стоп-слов и всяких ненужных символов\u001b[39;00m\n\u001b[0;32m      <a href='vscode-notebook-cell:/c%3A/Users/Home/Downloads/Telegram%20Desktop/session_1_parsing/all.ipynb#X22sZmlsZQ%3D%3D?line=8'>9</a>\u001b[0m \u001b[39m   регулярочка помогает заменить токены типа \"1й\", которые встречаются в тексте на *, которые потом просто удаляем из списка\u001b[39;00m\n\u001b[0;32m     <a href='vscode-notebook-cell:/c%3A/Users/Home/Downloads/Telegram%20Desktop/session_1_parsing/all.ipynb#X22sZmlsZQ%3D%3D?line=9'>10</a>\u001b[0m \u001b[39m   \"\"\"\u001b[39;00m\n\u001b[0;32m     <a href='vscode-notebook-cell:/c%3A/Users/Home/Downloads/Telegram%20Desktop/session_1_parsing/all.ipynb#X22sZmlsZQ%3D%3D?line=10'>11</a>\u001b[0m    text \u001b[39m=\u001b[39m [re\u001b[39m.\u001b[39msub(\u001b[39m'\u001b[39m\u001b[39m[0-9][а-я]\u001b[39m\u001b[39m'\u001b[39m, \u001b[39m'\u001b[39m\u001b[39m*\u001b[39m\u001b[39m'\u001b[39m, token) \u001b[39mfor\u001b[39;00m token \u001b[39min\u001b[39;00m tokens \u001b[39mif\u001b[39;00m (token\u001b[39m.\u001b[39mstrip() \u001b[39mnot\u001b[39;00m \u001b[39min\u001b[39;00m stop_words_rus) \u001b[39m&\u001b[39m \\\n\u001b[0;32m     <a href='vscode-notebook-cell:/c%3A/Users/Home/Downloads/Telegram%20Desktop/session_1_parsing/all.ipynb#X22sZmlsZQ%3D%3D?line=11'>12</a>\u001b[0m                              (token\u001b[39m.\u001b[39mstrip() \u001b[39mnot\u001b[39;00m \u001b[39min\u001b[39;00m stop_words_eng) \u001b[39m&\u001b[39m \\\n\u001b[0;32m     <a href='vscode-notebook-cell:/c%3A/Users/Home/Downloads/Telegram%20Desktop/session_1_parsing/all.ipynb#X22sZmlsZQ%3D%3D?line=12'>13</a>\u001b[0m                              (token\u001b[39m.\u001b[39mstrip() \u001b[39mnot\u001b[39;00m \u001b[39min\u001b[39;00m punctuation) \u001b[39m&\u001b[39m \\\n\u001b[0;32m     <a href='vscode-notebook-cell:/c%3A/Users/Home/Downloads/Telegram%20Desktop/session_1_parsing/all.ipynb#X22sZmlsZQ%3D%3D?line=13'>14</a>\u001b[0m                              (token\u001b[39m.\u001b[39mstrip() \u001b[39mnot\u001b[39;00m \u001b[39min\u001b[39;00m numbers) \u001b[39m&\u001b[39m \\\n\u001b[0;32m     <a href='vscode-notebook-cell:/c%3A/Users/Home/Downloads/Telegram%20Desktop/session_1_parsing/all.ipynb#X22sZmlsZQ%3D%3D?line=14'>15</a>\u001b[0m                              (token \u001b[39m!=\u001b[39m \u001b[39m'\u001b[39m\u001b[39m \u001b[39m\u001b[39m'\u001b[39m)]\n",
      "File \u001b[1;32mc:\\Users\\Home\\AppData\\Local\\Programs\\Python\\Python310\\lib\\site-packages\\pymystem3\\mystem.py:265\u001b[0m, in \u001b[0;36mMystem.lemmatize\u001b[1;34m(self, text)\u001b[0m\n\u001b[0;32m    254\u001b[0m \u001b[39m\"\"\"\u001b[39;00m\n\u001b[0;32m    255\u001b[0m \u001b[39mMake morphology analysis for a text and return list of lemmas.\u001b[39;00m\n\u001b[0;32m    256\u001b[0m \n\u001b[1;32m   (...)\u001b[0m\n\u001b[0;32m    260\u001b[0m \u001b[39m:rtype:         list\u001b[39;00m\n\u001b[0;32m    261\u001b[0m \u001b[39m\"\"\"\u001b[39;00m\n\u001b[0;32m    263\u001b[0m need_encode \u001b[39m=\u001b[39m (sys\u001b[39m.\u001b[39mversion_info[\u001b[39m0\u001b[39m] \u001b[39m<\u001b[39m \u001b[39m3\u001b[39m \u001b[39mand\u001b[39;00m \u001b[39misinstance\u001b[39m(text, \u001b[39mstr\u001b[39m))\n\u001b[1;32m--> 265\u001b[0m infos \u001b[39m=\u001b[39m \u001b[39mself\u001b[39;49m\u001b[39m.\u001b[39;49manalyze(text)\n\u001b[0;32m    266\u001b[0m lemmas \u001b[39m=\u001b[39m \u001b[39mlist\u001b[39m(\u001b[39mfilter\u001b[39m(\u001b[39mNone\u001b[39;00m, \u001b[39mmap\u001b[39m(\u001b[39mself\u001b[39m\u001b[39m.\u001b[39m_get_lemma, infos)))\n\u001b[0;32m    268\u001b[0m \u001b[39mif\u001b[39;00m need_encode \u001b[39mis\u001b[39;00m \u001b[39mTrue\u001b[39;00m:\n",
      "File \u001b[1;32mc:\\Users\\Home\\AppData\\Local\\Programs\\Python\\Python310\\lib\\site-packages\\pymystem3\\mystem.py:250\u001b[0m, in \u001b[0;36mMystem.analyze\u001b[1;34m(self, text)\u001b[0m\n\u001b[0;32m    248\u001b[0m result \u001b[39m=\u001b[39m []\n\u001b[0;32m    249\u001b[0m \u001b[39mfor\u001b[39;00m line \u001b[39min\u001b[39;00m text\u001b[39m.\u001b[39msplitlines():\n\u001b[1;32m--> 250\u001b[0m     result\u001b[39m.\u001b[39mextend(\u001b[39mself\u001b[39;49m\u001b[39m.\u001b[39;49m_analyze_impl(line))\n\u001b[0;32m    251\u001b[0m \u001b[39mreturn\u001b[39;00m result\n",
      "File \u001b[1;32mc:\\Users\\Home\\AppData\\Local\\Programs\\Python\\Python310\\lib\\site-packages\\pymystem3\\mystem.py:313\u001b[0m, in \u001b[0;36mMystem._analyze_impl\u001b[1;34m(self, text)\u001b[0m\n\u001b[0;32m    310\u001b[0m \u001b[39mself\u001b[39m\u001b[39m.\u001b[39m_procin\u001b[39m.\u001b[39mwrite(text)\n\u001b[0;32m    311\u001b[0m \u001b[39mself\u001b[39m\u001b[39m.\u001b[39m_procin\u001b[39m.\u001b[39mwrite(_NL)\n\u001b[1;32m--> 313\u001b[0m out, _ \u001b[39m=\u001b[39m \u001b[39mself\u001b[39;49m\u001b[39m.\u001b[39;49m_proc\u001b[39m.\u001b[39;49mcommunicate()\n\u001b[0;32m    314\u001b[0m \u001b[39mself\u001b[39m\u001b[39m.\u001b[39m_proc \u001b[39m=\u001b[39m \u001b[39mNone\u001b[39;00m\n\u001b[0;32m    315\u001b[0m \u001b[39mtry\u001b[39;00m:\n\u001b[0;32m    316\u001b[0m     \u001b[39m#obj = json.loads(out)\u001b[39;00m\n",
      "File \u001b[1;32mc:\\Users\\Home\\AppData\\Local\\Programs\\Python\\Python310\\lib\\subprocess.py:1149\u001b[0m, in \u001b[0;36mPopen.communicate\u001b[1;34m(self, input, timeout)\u001b[0m\n\u001b[0;32m   1146\u001b[0m     endtime \u001b[39m=\u001b[39m \u001b[39mNone\u001b[39;00m\n\u001b[0;32m   1148\u001b[0m \u001b[39mtry\u001b[39;00m:\n\u001b[1;32m-> 1149\u001b[0m     stdout, stderr \u001b[39m=\u001b[39m \u001b[39mself\u001b[39;49m\u001b[39m.\u001b[39;49m_communicate(\u001b[39minput\u001b[39;49m, endtime, timeout)\n\u001b[0;32m   1150\u001b[0m \u001b[39mexcept\u001b[39;00m \u001b[39mKeyboardInterrupt\u001b[39;00m:\n\u001b[0;32m   1151\u001b[0m     \u001b[39m# https://bugs.python.org/issue25942\u001b[39;00m\n\u001b[0;32m   1152\u001b[0m     \u001b[39m# See the detailed comment in .wait().\u001b[39;00m\n\u001b[0;32m   1153\u001b[0m     \u001b[39mif\u001b[39;00m timeout \u001b[39mis\u001b[39;00m \u001b[39mnot\u001b[39;00m \u001b[39mNone\u001b[39;00m:\n",
      "File \u001b[1;32mc:\\Users\\Home\\AppData\\Local\\Programs\\Python\\Python310\\lib\\subprocess.py:1523\u001b[0m, in \u001b[0;36mPopen._communicate\u001b[1;34m(self, input, endtime, orig_timeout)\u001b[0m\n\u001b[0;32m   1519\u001b[0m \u001b[39m# Wait for the reader threads, or time out.  If we time out, the\u001b[39;00m\n\u001b[0;32m   1520\u001b[0m \u001b[39m# threads remain reading and the fds left open in case the user\u001b[39;00m\n\u001b[0;32m   1521\u001b[0m \u001b[39m# calls communicate again.\u001b[39;00m\n\u001b[0;32m   1522\u001b[0m \u001b[39mif\u001b[39;00m \u001b[39mself\u001b[39m\u001b[39m.\u001b[39mstdout \u001b[39mis\u001b[39;00m \u001b[39mnot\u001b[39;00m \u001b[39mNone\u001b[39;00m:\n\u001b[1;32m-> 1523\u001b[0m     \u001b[39mself\u001b[39;49m\u001b[39m.\u001b[39;49mstdout_thread\u001b[39m.\u001b[39;49mjoin(\u001b[39mself\u001b[39;49m\u001b[39m.\u001b[39;49m_remaining_time(endtime))\n\u001b[0;32m   1524\u001b[0m     \u001b[39mif\u001b[39;00m \u001b[39mself\u001b[39m\u001b[39m.\u001b[39mstdout_thread\u001b[39m.\u001b[39mis_alive():\n\u001b[0;32m   1525\u001b[0m         \u001b[39mraise\u001b[39;00m TimeoutExpired(\u001b[39mself\u001b[39m\u001b[39m.\u001b[39margs, orig_timeout)\n",
      "File \u001b[1;32mc:\\Users\\Home\\AppData\\Local\\Programs\\Python\\Python310\\lib\\threading.py:1089\u001b[0m, in \u001b[0;36mThread.join\u001b[1;34m(self, timeout)\u001b[0m\n\u001b[0;32m   1086\u001b[0m     \u001b[39mraise\u001b[39;00m \u001b[39mRuntimeError\u001b[39;00m(\u001b[39m\"\u001b[39m\u001b[39mcannot join current thread\u001b[39m\u001b[39m\"\u001b[39m)\n\u001b[0;32m   1088\u001b[0m \u001b[39mif\u001b[39;00m timeout \u001b[39mis\u001b[39;00m \u001b[39mNone\u001b[39;00m:\n\u001b[1;32m-> 1089\u001b[0m     \u001b[39mself\u001b[39;49m\u001b[39m.\u001b[39;49m_wait_for_tstate_lock()\n\u001b[0;32m   1090\u001b[0m \u001b[39melse\u001b[39;00m:\n\u001b[0;32m   1091\u001b[0m     \u001b[39m# the behavior of a negative timeout isn't documented, but\u001b[39;00m\n\u001b[0;32m   1092\u001b[0m     \u001b[39m# historically .join(timeout=x) for x<0 has acted as if timeout=0\u001b[39;00m\n\u001b[0;32m   1093\u001b[0m     \u001b[39mself\u001b[39m\u001b[39m.\u001b[39m_wait_for_tstate_lock(timeout\u001b[39m=\u001b[39m\u001b[39mmax\u001b[39m(timeout, \u001b[39m0\u001b[39m))\n",
      "File \u001b[1;32mc:\\Users\\Home\\AppData\\Local\\Programs\\Python\\Python310\\lib\\threading.py:1105\u001b[0m, in \u001b[0;36mThread._wait_for_tstate_lock\u001b[1;34m(self, block, timeout)\u001b[0m\n\u001b[0;32m   1103\u001b[0m \u001b[39mif\u001b[39;00m lock \u001b[39mis\u001b[39;00m \u001b[39mNone\u001b[39;00m:  \u001b[39m# already determined that the C code is done\u001b[39;00m\n\u001b[0;32m   1104\u001b[0m     \u001b[39massert\u001b[39;00m \u001b[39mself\u001b[39m\u001b[39m.\u001b[39m_is_stopped\n\u001b[1;32m-> 1105\u001b[0m \u001b[39melif\u001b[39;00m lock\u001b[39m.\u001b[39;49macquire(block, timeout):\n\u001b[0;32m   1106\u001b[0m     lock\u001b[39m.\u001b[39mrelease()\n\u001b[0;32m   1107\u001b[0m     \u001b[39mself\u001b[39m\u001b[39m.\u001b[39m_stop()\n",
      "\u001b[1;31mKeyboardInterrupt\u001b[0m: "
     ]
    }
   ],
   "source": [
    "corpus = []\n",
    "for row in tqdm(data.iterrows()):\n",
    "   text = preprocess_text(row[1]['text'])\n",
    "   corpus.append(text)"
   ]
  }
 ],
 "metadata": {
  "kernelspec": {
   "display_name": "Python 3",
   "language": "python",
   "name": "python3"
  },
  "language_info": {
   "codemirror_mode": {
    "name": "ipython",
    "version": 3
   },
   "file_extension": ".py",
   "mimetype": "text/x-python",
   "name": "python",
   "nbconvert_exporter": "python",
   "pygments_lexer": "ipython3",
   "version": "3.10.0"
  },
  "orig_nbformat": 4
 },
 "nbformat": 4,
 "nbformat_minor": 2
}
